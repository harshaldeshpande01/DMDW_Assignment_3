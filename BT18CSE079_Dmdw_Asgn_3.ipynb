{
 "cells": [
  {
   "cell_type": "markdown",
   "metadata": {},
   "source": [
    "## DMDW Assignment-3\n",
    "\n",
    "### Cluster analysis\n",
    "\n",
    "### Algorithms used - KMeans, Hierarchial clustering(Agglomerative), Density based clustering (DBSCAN, OPTICS)\n",
    "\n",
    "#### Harshal Deshpande --- BT18CSE079"
   ]
  },
  {
   "cell_type": "markdown",
   "metadata": {},
   "source": [
    "### Necessary imports"
   ]
  },
  {
   "cell_type": "code",
   "execution_count": 1,
   "metadata": {},
   "outputs": [],
   "source": [
    "# For dataframe\n",
    "import pandas as pd\n",
    "\n",
    "# For data preprocesing\n",
    "from sklearn.preprocessing import LabelEncoder, StandardScaler\n",
    "from sklearn.decomposition import PCA\n",
    "\n",
    "# Clustering algorithms\n",
    "from sklearn.cluster import KMeans, AgglomerativeClustering, DBSCAN, OPTICS\n",
    "\n",
    "# Evaluating cluster quality \n",
    "from sklearn.metrics import silhouette_score, davies_bouldin_score\n",
    "\n",
    "# For pLotting results\n",
    "import matplotlib.pyplot as plt\n",
    "%matplotlib inline"
   ]
  },
  {
   "cell_type": "markdown",
   "metadata": {},
   "source": [
    "### Data preprocessing"
   ]
  },
  {
   "cell_type": "code",
   "execution_count": 2,
   "metadata": {},
   "outputs": [
    {
     "data": {
      "text/html": [
       "<div>\n",
       "<style scoped>\n",
       "    .dataframe tbody tr th:only-of-type {\n",
       "        vertical-align: middle;\n",
       "    }\n",
       "\n",
       "    .dataframe tbody tr th {\n",
       "        vertical-align: top;\n",
       "    }\n",
       "\n",
       "    .dataframe thead th {\n",
       "        text-align: right;\n",
       "    }\n",
       "</style>\n",
       "<table border=\"1\" class=\"dataframe\">\n",
       "  <thead>\n",
       "    <tr style=\"text-align: right;\">\n",
       "      <th></th>\n",
       "      <th>initial_position</th>\n",
       "      <th>initial_velocity</th>\n",
       "      <th>mass</th>\n",
       "      <th>time</th>\n",
       "      <th>location</th>\n",
       "    </tr>\n",
       "  </thead>\n",
       "  <tbody>\n",
       "    <tr>\n",
       "      <th>0</th>\n",
       "      <td>1759</td>\n",
       "      <td>2</td>\n",
       "      <td>615</td>\n",
       "      <td>38</td>\n",
       "      <td>-5240.466225</td>\n",
       "    </tr>\n",
       "    <tr>\n",
       "      <th>1</th>\n",
       "      <td>7010</td>\n",
       "      <td>21</td>\n",
       "      <td>805</td>\n",
       "      <td>62</td>\n",
       "      <td>-10523.592595</td>\n",
       "    </tr>\n",
       "    <tr>\n",
       "      <th>2</th>\n",
       "      <td>1114</td>\n",
       "      <td>85</td>\n",
       "      <td>710</td>\n",
       "      <td>40</td>\n",
       "      <td>-3326.077071</td>\n",
       "    </tr>\n",
       "    <tr>\n",
       "      <th>3</th>\n",
       "      <td>8768</td>\n",
       "      <td>14</td>\n",
       "      <td>718</td>\n",
       "      <td>69</td>\n",
       "      <td>-13594.914718</td>\n",
       "    </tr>\n",
       "    <tr>\n",
       "      <th>4</th>\n",
       "      <td>944</td>\n",
       "      <td>41</td>\n",
       "      <td>889</td>\n",
       "      <td>59</td>\n",
       "      <td>-13693.776505</td>\n",
       "    </tr>\n",
       "  </tbody>\n",
       "</table>\n",
       "</div>"
      ],
      "text/plain": [
       "   initial_position  initial_velocity  mass  time      location\n",
       "0              1759                 2   615    38  -5240.466225\n",
       "1              7010                21   805    62 -10523.592595\n",
       "2              1114                85   710    40  -3326.077071\n",
       "3              8768                14   718    69 -13594.914718\n",
       "4               944                41   889    59 -13693.776505"
      ]
     },
     "execution_count": 2,
     "metadata": {},
     "output_type": "execute_result"
    }
   ],
   "source": [
    "# Read and display dataset\n",
    "data = pd.read_csv('gravity_location_data.csv')\n",
    "\n",
    "data.head()"
   ]
  },
  {
   "cell_type": "code",
   "execution_count": 3,
   "metadata": {},
   "outputs": [
    {
     "name": "stdout",
     "output_type": "stream",
     "text": [
      "<class 'pandas.core.frame.DataFrame'>\n",
      "RangeIndex: 10000 entries, 0 to 9999\n",
      "Data columns (total 5 columns):\n",
      " #   Column            Non-Null Count  Dtype  \n",
      "---  ------            --------------  -----  \n",
      " 0   initial_position  10000 non-null  int64  \n",
      " 1   initial_velocity  10000 non-null  int64  \n",
      " 2   mass              10000 non-null  int64  \n",
      " 3   time              10000 non-null  int64  \n",
      " 4   location          10000 non-null  float64\n",
      "dtypes: float64(1), int64(4)\n",
      "memory usage: 390.8 KB\n"
     ]
    }
   ],
   "source": [
    "data.info()"
   ]
  },
  {
   "cell_type": "code",
   "execution_count": 4,
   "metadata": {},
   "outputs": [
    {
     "name": "stdout",
     "output_type": "stream",
     "text": [
      "[[-1.32566039 -1.73634764  0.3108194  -0.60009171  0.35373801]\n",
      " [ 0.42192266 -1.0432677   0.99338627  0.25616281 -0.03674005]\n",
      " [-1.54032256  1.29131736  0.65210283 -0.52873716  0.4952313 ]\n",
      " [ 1.00700188 -1.29861294  0.68084249  0.50590371 -0.26374274]\n",
      " [-1.59690019 -0.31370987  1.29515267  0.149131   -0.27104966]]\n"
     ]
    }
   ],
   "source": [
    "# Choose first 50 rows of data\n",
    "data = data.iloc[:50,:]\n",
    "\n",
    "# Scaling the data so that all the features become comparable \n",
    "X = data\n",
    "scaler = StandardScaler() \n",
    "X_scaled = scaler.fit_transform(X) \n",
    "\n",
    "print(X_scaled[:5, :])"
   ]
  },
  {
   "cell_type": "code",
   "execution_count": 5,
   "metadata": {},
   "outputs": [
    {
     "data": {
      "text/html": [
       "<div>\n",
       "<style scoped>\n",
       "    .dataframe tbody tr th:only-of-type {\n",
       "        vertical-align: middle;\n",
       "    }\n",
       "\n",
       "    .dataframe tbody tr th {\n",
       "        vertical-align: top;\n",
       "    }\n",
       "\n",
       "    .dataframe thead th {\n",
       "        text-align: right;\n",
       "    }\n",
       "</style>\n",
       "<table border=\"1\" class=\"dataframe\">\n",
       "  <thead>\n",
       "    <tr style=\"text-align: right;\">\n",
       "      <th></th>\n",
       "      <th>RD1</th>\n",
       "      <th>RD2</th>\n",
       "    </tr>\n",
       "  </thead>\n",
       "  <tbody>\n",
       "    <tr>\n",
       "      <th>0</th>\n",
       "      <td>0.259095</td>\n",
       "      <td>-2.171112</td>\n",
       "    </tr>\n",
       "    <tr>\n",
       "      <th>1</th>\n",
       "      <td>-0.370414</td>\n",
       "      <td>-1.041937</td>\n",
       "    </tr>\n",
       "    <tr>\n",
       "      <th>2</th>\n",
       "      <td>0.056390</td>\n",
       "      <td>0.169863</td>\n",
       "    </tr>\n",
       "    <tr>\n",
       "      <th>3</th>\n",
       "      <td>-0.435536</td>\n",
       "      <td>-0.873254</td>\n",
       "    </tr>\n",
       "    <tr>\n",
       "      <th>4</th>\n",
       "      <td>-1.049321</td>\n",
       "      <td>-1.244402</td>\n",
       "    </tr>\n",
       "  </tbody>\n",
       "</table>\n",
       "</div>"
      ],
      "text/plain": [
       "        RD1       RD2\n",
       "0  0.259095 -2.171112\n",
       "1 -0.370414 -1.041937\n",
       "2  0.056390  0.169863\n",
       "3 -0.435536 -0.873254\n",
       "4 -1.049321 -1.244402"
      ]
     },
     "execution_count": 5,
     "metadata": {},
     "output_type": "execute_result"
    }
   ],
   "source": [
    "# Decrease dimensionality of data for efficient computations\n",
    "# RD = Reduced dimension\n",
    "pca = PCA(n_components=2) \n",
    "X_principal = pca.fit_transform(X_scaled) \n",
    "X_principal = pd.DataFrame(X_principal) \n",
    "X_principal.columns = ['RD1', 'RD2']   \n",
    "X = X_principal\n",
    "\n",
    "X.head()"
   ]
  },
  {
   "cell_type": "markdown",
   "metadata": {},
   "source": [
    "### For determining clustering algorithms parameters"
   ]
  },
  {
   "cell_type": "code",
   "execution_count": 6,
   "metadata": {},
   "outputs": [
    {
     "name": "stdout",
     "output_type": "stream",
     "text": [
      "0.3985815019647769 0.9627345284410406\n",
      "0.3884069761745084 0.8529702173053719\n",
      "0.40330400559446333 0.8364482269385082\n",
      "0.41805574050232386 0.7236464144592626\n",
      "0.41880547929909673 0.7125345558888689\n",
      "0.39152641359562707 0.7883385725981674\n",
      "0.41380319392234105 0.7274128431740068\n",
      "0.42001288648225116 0.657498206194099\n"
     ]
    }
   ],
   "source": [
    "# For Kmeans, try different number of clusters\n",
    "# silhouette score must be max (close to 1) and davies_bouldin score must be min\n",
    "for i in range(2,10):\n",
    "    df1 = KMeans(n_clusters = i).fit_predict(X)\n",
    "    print(silhouette_score(X, df1), davies_bouldin_score(X, df1))"
   ]
  },
  {
   "cell_type": "markdown",
   "metadata": {},
   "source": [
    "Best score is obtained for n = 5 OR 6. Therefore, num clusters = 5 OR 6"
   ]
  },
  {
   "cell_type": "code",
   "execution_count": 7,
   "metadata": {},
   "outputs": [
    {
     "name": "stdout",
     "output_type": "stream",
     "text": [
      "0.3688664883570496 1.0158109720660606\n",
      "0.37272686599660126 0.8039672779552968\n",
      "0.40021903361360694 0.8429746045873356\n",
      "0.3939894299163013 0.7103249852508888\n",
      "0.39772130125661753 0.683072131367445\n",
      "0.38424340490171793 0.7311856194080933\n",
      "0.37976692274372637 0.7518416320792176\n",
      "0.39108112278548346 0.6975526380370312\n"
     ]
    }
   ],
   "source": [
    "for i in range(2,10):\n",
    "    df2 = AgglomerativeClustering(n_clusters = i).fit_predict(X)\n",
    "    print(silhouette_score(X, df2), davies_bouldin_score(X, df2))"
   ]
  },
  {
   "cell_type": "markdown",
   "metadata": {},
   "source": [
    "num clusters = 6"
   ]
  },
  {
   "cell_type": "code",
   "execution_count": 8,
   "metadata": {},
   "outputs": [
    {
     "name": "stdout",
     "output_type": "stream",
     "text": [
      "0.017476298029691105 2.8858703578498637\n",
      "0.17094629959251736 2.1160432804601195\n",
      "0.16431239689806684 5.083652380074855\n",
      "0.26452995455556555 3.650035958383357\n",
      "0.2306386023159941 2.3863007006779284\n",
      "0.17125227990590314 0.6113847506750462\n",
      "0.17125227990590314 0.6113847506750462\n"
     ]
    }
   ],
   "source": [
    "import numpy as np\n",
    "\n",
    "# Try different epsilon values (radius's)\n",
    "rads = np.arange(0.5,1.2,0.1)\n",
    "\n",
    "for i in rads:\n",
    "    df3 = DBSCAN(eps = i).fit_predict(X)\n",
    "    print(silhouette_score(X, df3), davies_bouldin_score(X, df3))"
   ]
  },
  {
   "cell_type": "markdown",
   "metadata": {},
   "source": [
    "eps = 0.8"
   ]
  },
  {
   "cell_type": "markdown",
   "metadata": {},
   "source": [
    "### Prediction and plotting results"
   ]
  },
  {
   "cell_type": "markdown",
   "metadata": {},
   "source": [
    "### K-Means"
   ]
  },
  {
   "cell_type": "code",
   "execution_count": 9,
   "metadata": {},
   "outputs": [],
   "source": [
    "KM = KMeans(n_clusters = 5).fit_predict(X)"
   ]
  },
  {
   "cell_type": "code",
   "execution_count": 10,
   "metadata": {},
   "outputs": [
    {
     "data": {
      "image/png": "[encoded data removed]",
      "text/plain": [
       "<Figure size 432x288 with 1 Axes>"
      ]
     },
     "metadata": {
      "needs_background": "light"
     },
     "output_type": "display_data"
    }
   ],
   "source": [
    "fig, ax = plt.subplots()\n",
    "scatter = ax.scatter(X['RD1'], X['RD2'], c = KM, cmap ='rainbow')\n",
    "legend = fig.legend(*scatter.legend_elements(), loc='upper right', title=\"Classes\")"
   ]
  },
  {
   "cell_type": "markdown",
   "metadata": {},
   "source": [
    "### Agglomerative Clustering"
   ]
  },
  {
   "cell_type": "code",
   "execution_count": 11,
   "metadata": {},
   "outputs": [],
   "source": [
    "AC = AgglomerativeClustering(n_clusters = 6, linkage='complete').fit_predict(X)"
   ]
  },
  {
   "cell_type": "code",
   "execution_count": 12,
   "metadata": {},
   "outputs": [
    {
     "data": {
      "image/png": "[encoded data removed]",
      "text/plain": [
       "<Figure size 432x288 with 1 Axes>"
      ]
     },
     "metadata": {
      "needs_background": "light"
     },
     "output_type": "display_data"
    }
   ],
   "source": [
    "fig, ax = plt.subplots()\n",
    "scatter = ax.scatter(X['RD1'], X['RD2'], c = AC, cmap ='rainbow')\n",
    "legend = fig.legend(*scatter.legend_elements(), loc='upper right', title=\"Classes\")"
   ]
  },
  {
   "cell_type": "markdown",
   "metadata": {},
   "source": [
    "### DBSCAN"
   ]
  },
  {
   "cell_type": "code",
   "execution_count": 13,
   "metadata": {},
   "outputs": [],
   "source": [
    "DB = DBSCAN(eps = 0.8).fit_predict(X)"
   ]
  },
  {
   "cell_type": "code",
   "execution_count": 14,
   "metadata": {},
   "outputs": [
    {
     "data": {
      "image/png": "[encoded data removed]",
      "text/plain": [
       "<Figure size 432x288 with 1 Axes>"
      ]
     },
     "metadata": {
      "needs_background": "light"
     },
     "output_type": "display_data"
    }
   ],
   "source": [
    "fig, ax = plt.subplots()\n",
    "scatter = ax.scatter(X['RD1'], X['RD2'], c = DB, cmap ='rainbow')\n",
    "legend = fig.legend(*scatter.legend_elements(), loc='upper right', title=\"Classes\")"
   ]
  },
  {
   "cell_type": "markdown",
   "metadata": {},
   "source": [
    "### OPTICS"
   ]
  },
  {
   "cell_type": "code",
   "execution_count": 15,
   "metadata": {},
   "outputs": [],
   "source": [
    "OP = OPTICS(xi = 0.001).fit_predict(X)"
   ]
  },
  {
   "cell_type": "code",
   "execution_count": 16,
   "metadata": {},
   "outputs": [
    {
     "data": {
      "image/png": "[encoded data removed]",
      "text/plain": [
       "<Figure size 432x288 with 1 Axes>"
      ]
     },
     "metadata": {
      "needs_background": "light"
     },
     "output_type": "display_data"
    }
   ],
   "source": [
    "fig, ax = plt.subplots()\n",
    "scatter = ax.scatter(X['RD1'], X['RD2'], c = OP, cmap ='rainbow')\n",
    "legend = fig.legend(*scatter.legend_elements(), loc='upper right', title=\"Classes\")"
   ]
  },
  {
   "cell_type": "markdown",
   "metadata": {},
   "source": [
    "### Final scores"
   ]
  },
  {
   "cell_type": "code",
   "execution_count": 17,
   "metadata": {},
   "outputs": [
    {
     "name": "stdout",
     "output_type": "stream",
     "text": [
      "0.4148114627221647 0.7111060813422598\n"
     ]
    }
   ],
   "source": [
    "print(silhouette_score(X, KM), davies_bouldin_score(X, KM))"
   ]
  },
  {
   "cell_type": "code",
   "execution_count": 18,
   "metadata": {},
   "outputs": [
    {
     "name": "stdout",
     "output_type": "stream",
     "text": [
      "0.35540093488926094 0.7886343423658077\n"
     ]
    }
   ],
   "source": [
    "print(silhouette_score(X, AC), davies_bouldin_score(X, AC))"
   ]
  },
  {
   "cell_type": "code",
   "execution_count": 19,
   "metadata": {},
   "outputs": [
    {
     "name": "stdout",
     "output_type": "stream",
     "text": [
      "0.26452995455556555 3.650035958383357\n"
     ]
    }
   ],
   "source": [
    "print(silhouette_score(X, DB), davies_bouldin_score(X, DB))"
   ]
  },
  {
   "cell_type": "code",
   "execution_count": 20,
   "metadata": {},
   "outputs": [
    {
     "name": "stdout",
     "output_type": "stream",
     "text": [
      "0.22733437457894307 3.5649730608096326\n"
     ]
    }
   ],
   "source": [
    "print(silhouette_score(X, OP), davies_bouldin_score(X, OP))"
   ]
  },
  {
   "cell_type": "markdown",
   "metadata": {},
   "source": [
    "### Best results achieved with KMeans algorithm"
   ]
  }
 ],
 "metadata": {
  "kernelspec": {
   "display_name": "Python 3",
   "language": "python",
   "name": "python3"
  },
  "language_info": {
   "codemirror_mode": {
    "name": "ipython",
    "version": 3
   },
   "file_extension": ".py",
   "mimetype": "text/x-python",
   "name": "python",
   "nbconvert_exporter": "python",
   "pygments_lexer": "ipython3",
   "version": "3.8.3"
  }
 },
 "nbformat": 4,
 "nbformat_minor": 2
}
